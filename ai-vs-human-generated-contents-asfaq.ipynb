{
 "cells": [
  {
   "cell_type": "code",
   "execution_count": 1,
   "id": "4390bd45",
   "metadata": {
    "_cell_guid": "b1076dfc-b9ad-4769-8c92-a6c4dae69d19",
    "_uuid": "8f2839f25d086af736a60e9eeb907d3b93b6e0e5",
    "execution": {
     "iopub.execute_input": "2024-10-19T15:02:46.203419Z",
     "iopub.status.busy": "2024-10-19T15:02:46.202994Z",
     "iopub.status.idle": "2024-10-19T15:02:47.063375Z",
     "shell.execute_reply": "2024-10-19T15:02:47.062041Z"
    },
    "papermill": {
     "duration": 0.867917,
     "end_time": "2024-10-19T15:02:47.066552",
     "exception": false,
     "start_time": "2024-10-19T15:02:46.198635",
     "status": "completed"
    },
    "tags": []
   },
   "outputs": [
    {
     "name": "stdout",
     "output_type": "stream",
     "text": [
      "/kaggle/input/ai-vs-human-generated-contents/ai_vs_human_content.csv\n"
     ]
    }
   ],
   "source": [
    "# This Python 3 environment comes with many helpful analytics libraries installed\n",
    "# It is defined by the kaggle/python Docker image: https://github.com/kaggle/docker-python\n",
    "# For example, here's several helpful packages to load\n",
    "\n",
    "import numpy as np # linear algebra\n",
    "import pandas as pd # data processing, CSV file I/O (e.g. pd.read_csv)\n",
    "\n",
    "# Input data files are available in the read-only \"../input/\" directory\n",
    "# For example, running this (by clicking run or pressing Shift+Enter) will list all files under the input directory\n",
    "\n",
    "import os\n",
    "for dirname, _, filenames in os.walk('/kaggle/input'):\n",
    "    for filename in filenames:\n",
    "        print(os.path.join(dirname, filename))\n",
    "\n",
    "# You can write up to 20GB to the current directory (/kaggle/working/) that gets preserved as output when you create a version using \"Save & Run All\" \n",
    "# You can also write temporary files to /kaggle/temp/, but they won't be saved outside of the current session"
   ]
  },
  {
   "cell_type": "code",
   "execution_count": 2,
   "id": "ea2296e2",
   "metadata": {
    "execution": {
     "iopub.execute_input": "2024-10-19T15:02:47.073790Z",
     "iopub.status.busy": "2024-10-19T15:02:47.073183Z",
     "iopub.status.idle": "2024-10-19T15:02:47.078431Z",
     "shell.execute_reply": "2024-10-19T15:02:47.077299Z"
    },
    "papermill": {
     "duration": 0.01169,
     "end_time": "2024-10-19T15:02:47.080763",
     "exception": false,
     "start_time": "2024-10-19T15:02:47.069073",
     "status": "completed"
    },
    "tags": []
   },
   "outputs": [],
   "source": [
    "# This is Notebook Needs Improvements and Todos For future"
   ]
  },
  {
   "cell_type": "code",
   "execution_count": 3,
   "id": "a3c38e67",
   "metadata": {
    "execution": {
     "iopub.execute_input": "2024-10-19T15:02:47.087203Z",
     "iopub.status.busy": "2024-10-19T15:02:47.086200Z",
     "iopub.status.idle": "2024-10-19T15:02:47.092455Z",
     "shell.execute_reply": "2024-10-19T15:02:47.091326Z"
    },
    "papermill": {
     "duration": 0.012129,
     "end_time": "2024-10-19T15:02:47.094970",
     "exception": false,
     "start_time": "2024-10-19T15:02:47.082841",
     "status": "completed"
    },
    "tags": []
   },
   "outputs": [
    {
     "name": "stdout",
     "output_type": "stream",
     "text": [
      "/kaggle/input/ai-vs-human-generated-contents/ai_vs_human_content.csv\n"
     ]
    }
   ],
   "source": [
    "print('/kaggle/input/ai-vs-human-generated-contents/ai_vs_human_content.csv')"
   ]
  }
 ],
 "metadata": {
  "kaggle": {
   "accelerator": "none",
   "dataSources": [
    {
     "datasetId": 5823671,
     "sourceId": 9557203,
     "sourceType": "datasetVersion"
    }
   ],
   "dockerImageVersionId": 30786,
   "isGpuEnabled": false,
   "isInternetEnabled": true,
   "language": "python",
   "sourceType": "notebook"
  },
  "kernelspec": {
   "display_name": "Python 3",
   "language": "python",
   "name": "python3"
  },
  "language_info": {
   "codemirror_mode": {
    "name": "ipython",
    "version": 3
   },
   "file_extension": ".py",
   "mimetype": "text/x-python",
   "name": "python",
   "nbconvert_exporter": "python",
   "pygments_lexer": "ipython3",
   "version": "3.10.14"
  },
  "papermill": {
   "default_parameters": {},
   "duration": 4.237008,
   "end_time": "2024-10-19T15:02:47.618587",
   "environment_variables": {},
   "exception": null,
   "input_path": "__notebook__.ipynb",
   "output_path": "__notebook__.ipynb",
   "parameters": {},
   "start_time": "2024-10-19T15:02:43.381579",
   "version": "2.6.0"
  }
 },
 "nbformat": 4,
 "nbformat_minor": 5
}
