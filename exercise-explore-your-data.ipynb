{
 "cells": [
  {
   "cell_type": "markdown",
   "id": "fc7a415c",
   "metadata": {
    "papermill": {
     "duration": 0.003769,
     "end_time": "2024-10-03T10:54:51.592238",
     "exception": false,
     "start_time": "2024-10-03T10:54:51.588469",
     "status": "completed"
    },
    "tags": []
   },
   "source": [
    "**[Machine Learning Course Home Page](https://www.kaggle.com/learn/machine-learning)**\n",
    "\n",
    "---\n"
   ]
  },
  {
   "cell_type": "markdown",
   "id": "a46d1522",
   "metadata": {
    "papermill": {
     "duration": 0.002879,
     "end_time": "2024-10-03T10:54:51.598371",
     "exception": false,
     "start_time": "2024-10-03T10:54:51.595492",
     "status": "completed"
    },
    "tags": []
   },
   "source": [
    "This exercise will test your ability to read a data file and understand statistics about the data.\n",
    "\n",
    "In later exercises, you will apply techniques to filter the data, build a machine learning model, and iteratively improve your model.\n",
    "\n",
    "The course examples use data from Melbourne. To ensure you can apply these techniques on your own, you will have to apply them to a new dataset (with house prices from Iowa).\n",
    "\n",
    "The exercises use a \"notebook\" coding environment.  In case you are unfamiliar with notebooks, we have a [90-second intro video](https://www.youtube.com/watch?v=4C2qMnaIKL4).\n",
    "\n",
    "# Exercises\n",
    "\n",
    "Run the following cell to set up code-checking, which will verify your work as you go."
   ]
  },
  {
   "cell_type": "code",
   "execution_count": 1,
   "id": "7aa6304b",
   "metadata": {
    "execution": {
     "iopub.execute_input": "2024-10-03T10:54:51.606611Z",
     "iopub.status.busy": "2024-10-03T10:54:51.605886Z",
     "iopub.status.idle": "2024-10-03T10:54:52.398812Z",
     "shell.execute_reply": "2024-10-03T10:54:52.397638Z"
    },
    "papermill": {
     "duration": 0.79968,
     "end_time": "2024-10-03T10:54:52.401086",
     "exception": false,
     "start_time": "2024-10-03T10:54:51.601406",
     "status": "completed"
    },
    "tags": []
   },
   "outputs": [
    {
     "name": "stdout",
     "output_type": "stream",
     "text": [
      "Setup Complete\n"
     ]
    }
   ],
   "source": [
    "# Set up code checking\n",
    "from learntools.core import binder\n",
    "binder.bind(globals())\n",
    "from learntools.machine_learning.ex2 import *\n",
    "print(\"Setup Complete\")"
   ]
  },
  {
   "cell_type": "markdown",
   "id": "6991be3f",
   "metadata": {
    "papermill": {
     "duration": 0.002955,
     "end_time": "2024-10-03T10:54:52.407373",
     "exception": false,
     "start_time": "2024-10-03T10:54:52.404418",
     "status": "completed"
    },
    "tags": []
   },
   "source": [
    "## Step 1: Loading Data\n",
    "Read the Iowa data file into a Pandas DataFrame called `home_data`."
   ]
  },
  {
   "cell_type": "code",
   "execution_count": 2,
   "id": "888b4c55",
   "metadata": {
    "execution": {
     "iopub.execute_input": "2024-10-03T10:54:52.415476Z",
     "iopub.status.busy": "2024-10-03T10:54:52.414650Z",
     "iopub.status.idle": "2024-10-03T10:54:52.461221Z",
     "shell.execute_reply": "2024-10-03T10:54:52.460247Z"
    },
    "papermill": {
     "duration": 0.053839,
     "end_time": "2024-10-03T10:54:52.464281",
     "exception": false,
     "start_time": "2024-10-03T10:54:52.410442",
     "status": "completed"
    },
    "tags": []
   },
   "outputs": [
    {
     "data": {
      "application/javascript": [
       "parent.postMessage({\"jupyterEvent\": \"custom.exercise_interaction\", \"data\": {\"outcomeType\": 1, \"valueTowardsCompletion\": 0.5, \"interactionType\": 1, \"questionType\": 1, \"questionId\": \"1_LoadHomeData\", \"learnToolsVersion\": \"0.3.4\", \"failureMessage\": \"\", \"exceptionClass\": \"\", \"trace\": \"\"}}, \"*\")"
      ],
      "text/plain": [
       "<IPython.core.display.Javascript object>"
      ]
     },
     "metadata": {},
     "output_type": "display_data"
    },
    {
     "data": {
      "text/markdown": [
       "<span style=\"color:#33cc33\">Correct</span>"
      ],
      "text/plain": [
       "Correct"
      ]
     },
     "metadata": {},
     "output_type": "display_data"
    }
   ],
   "source": [
    "import pandas as pd\n",
    "\n",
    "# Path of the file to read\n",
    "iowa_file_path = '../input/home-data-for-ml-course/train.csv'\n",
    "\n",
    "# Fill in the line below to read the file into a variable home_data\n",
    "home_data = pd.read_csv(iowa_file_path)\n",
    "\n",
    "# Call line below with no argument to check that you've loaded the data correctly\n",
    "step_1.check()"
   ]
  },
  {
   "cell_type": "code",
   "execution_count": 3,
   "id": "fc8257b6",
   "metadata": {
    "execution": {
     "iopub.execute_input": "2024-10-03T10:54:52.473918Z",
     "iopub.status.busy": "2024-10-03T10:54:52.473083Z",
     "iopub.status.idle": "2024-10-03T10:54:52.480829Z",
     "shell.execute_reply": "2024-10-03T10:54:52.479893Z"
    },
    "papermill": {
     "duration": 0.01476,
     "end_time": "2024-10-03T10:54:52.482894",
     "exception": false,
     "start_time": "2024-10-03T10:54:52.468134",
     "status": "completed"
    },
    "tags": []
   },
   "outputs": [
    {
     "data": {
      "application/javascript": [
       "parent.postMessage({\"jupyterEvent\": \"custom.exercise_interaction\", \"data\": {\"interactionType\": 2, \"questionType\": 1, \"questionId\": \"1_LoadHomeData\", \"learnToolsVersion\": \"0.3.4\", \"valueTowardsCompletion\": 0.0, \"failureMessage\": \"\", \"exceptionClass\": \"\", \"trace\": \"\", \"outcomeType\": 4}}, \"*\")"
      ],
      "text/plain": [
       "<IPython.core.display.Javascript object>"
      ]
     },
     "metadata": {},
     "output_type": "display_data"
    },
    {
     "data": {
      "text/markdown": [
       "<span style=\"color:#3366cc\">Hint:</span> Use the `pd.read_csv` function"
      ],
      "text/plain": [
       "Hint: Use the `pd.read_csv` function"
      ]
     },
     "metadata": {},
     "output_type": "display_data"
    }
   ],
   "source": [
    "# Lines below will give you a hint or solution code\n",
    "#step_1.hint()\n",
    "#step_1.solution()\n",
    "\n",
    "step_1.hint()"
   ]
  },
  {
   "cell_type": "markdown",
   "id": "d4b67421",
   "metadata": {
    "papermill": {
     "duration": 0.003399,
     "end_time": "2024-10-03T10:54:52.490010",
     "exception": false,
     "start_time": "2024-10-03T10:54:52.486611",
     "status": "completed"
    },
    "tags": []
   },
   "source": [
    "## Step 2: Review The Data\n",
    "Use the command you learned to view summary statistics of the data. Then fill in variables to answer the following questions"
   ]
  },
  {
   "cell_type": "code",
   "execution_count": 4,
   "id": "e68a1bac",
   "metadata": {
    "execution": {
     "iopub.execute_input": "2024-10-03T10:54:52.499238Z",
     "iopub.status.busy": "2024-10-03T10:54:52.498390Z",
     "iopub.status.idle": "2024-10-03T10:54:52.525172Z",
     "shell.execute_reply": "2024-10-03T10:54:52.524264Z"
    },
    "papermill": {
     "duration": 0.033685,
     "end_time": "2024-10-03T10:54:52.527287",
     "exception": false,
     "start_time": "2024-10-03T10:54:52.493602",
     "status": "completed"
    },
    "tags": []
   },
   "outputs": [
    {
     "data": {
      "application/javascript": [
       "parent.postMessage({\"jupyterEvent\": \"custom.exercise_interaction\", \"data\": {\"outcomeType\": 1, \"valueTowardsCompletion\": 0.5, \"interactionType\": 1, \"questionType\": 1, \"questionId\": \"1_LoadHomeData\", \"learnToolsVersion\": \"0.3.4\", \"failureMessage\": \"\", \"exceptionClass\": \"\", \"trace\": \"\"}}, \"*\")"
      ],
      "text/plain": [
       "<IPython.core.display.Javascript object>"
      ]
     },
     "metadata": {},
     "output_type": "display_data"
    },
    {
     "data": {
      "text/markdown": [
       "<span style=\"color:#33cc33\">Correct</span>"
      ],
      "text/plain": [
       "Correct"
      ]
     },
     "metadata": {},
     "output_type": "display_data"
    }
   ],
   "source": [
    "# Print summary statistics in next line\n",
    "home_data = pd.read_csv(iowa_file_path)\n",
    "step_1.check()"
   ]
  },
  {
   "cell_type": "code",
   "execution_count": 5,
   "id": "77320b42",
   "metadata": {
    "execution": {
     "iopub.execute_input": "2024-10-03T10:54:52.536633Z",
     "iopub.status.busy": "2024-10-03T10:54:52.536264Z",
     "iopub.status.idle": "2024-10-03T10:54:52.544436Z",
     "shell.execute_reply": "2024-10-03T10:54:52.543544Z"
    },
    "papermill": {
     "duration": 0.015067,
     "end_time": "2024-10-03T10:54:52.546470",
     "exception": false,
     "start_time": "2024-10-03T10:54:52.531403",
     "status": "completed"
    },
    "tags": []
   },
   "outputs": [
    {
     "data": {
      "application/javascript": [
       "parent.postMessage({\"jupyterEvent\": \"custom.exercise_interaction\", \"data\": {\"outcomeType\": 1, \"valueTowardsCompletion\": 0.5, \"interactionType\": 1, \"questionType\": 1, \"questionId\": \"2_HomeDescription\", \"learnToolsVersion\": \"0.3.4\", \"failureMessage\": \"\", \"exceptionClass\": \"\", \"trace\": \"\"}}, \"*\")"
      ],
      "text/plain": [
       "<IPython.core.display.Javascript object>"
      ]
     },
     "metadata": {},
     "output_type": "display_data"
    },
    {
     "data": {
      "text/markdown": [
       "<span style=\"color:#33cc33\">Correct</span>"
      ],
      "text/plain": [
       "Correct"
      ]
     },
     "metadata": {},
     "output_type": "display_data"
    }
   ],
   "source": [
    "# What is the average lot size (rounded to nearest integer)?\n",
    "avg_lot_size = 10517\n",
    "\n",
    "# As of today, how old is the newest home (current year - the date in which it was built)\n",
    "newest_home_age = 14\n",
    "\n",
    "# Checks your answers\n",
    "step_2.check()"
   ]
  },
  {
   "cell_type": "code",
   "execution_count": 6,
   "id": "15225848",
   "metadata": {
    "collapsed": true,
    "execution": {
     "iopub.execute_input": "2024-10-03T10:54:52.556715Z",
     "iopub.status.busy": "2024-10-03T10:54:52.555961Z",
     "iopub.status.idle": "2024-10-03T10:54:52.559843Z",
     "shell.execute_reply": "2024-10-03T10:54:52.558961Z"
    },
    "jupyter": {
     "outputs_hidden": true
    },
    "papermill": {
     "duration": 0.011095,
     "end_time": "2024-10-03T10:54:52.561835",
     "exception": false,
     "start_time": "2024-10-03T10:54:52.550740",
     "status": "completed"
    },
    "tags": []
   },
   "outputs": [],
   "source": [
    "#step_2.hint()\n",
    "#step_2.solution()"
   ]
  },
  {
   "cell_type": "markdown",
   "id": "da462153",
   "metadata": {
    "papermill": {
     "duration": 0.003935,
     "end_time": "2024-10-03T10:54:52.570062",
     "exception": false,
     "start_time": "2024-10-03T10:54:52.566127",
     "status": "completed"
    },
    "tags": []
   },
   "source": [
    "## Think About Your Data\n",
    "\n",
    "The newest house in your data isn't that new.  A few potential explanations for this:\n",
    "1. They haven't built new houses where this data was collected.\n",
    "1. The data was collected a long time ago. Houses built after the data publication wouldn't show up.\n",
    "\n",
    "If the reason is explanation #1 above, does that affect your trust in the model you build with this data? What about if it is reason #2?\n",
    "\n",
    "How could you dig into the data to see which explanation is more plausible?\n",
    "\n",
    "Check out this **[discussion thread](https://www.kaggle.com/learn-forum/60581)** to see what others think or to add your ideas.\n",
    "\n",
    "# Keep Going\n",
    "\n",
    "You are ready for **[Your First Machine Learning Model](https://www.kaggle.com/dansbecker/your-first-machine-learning-model).**\n"
   ]
  },
  {
   "cell_type": "markdown",
   "id": "3d08613c",
   "metadata": {
    "papermill": {
     "duration": 0.003886,
     "end_time": "2024-10-03T10:54:52.578923",
     "exception": false,
     "start_time": "2024-10-03T10:54:52.575037",
     "status": "completed"
    },
    "tags": []
   },
   "source": [
    "---\n",
    "**[Machine Learning Course Home Page](https://www.kaggle.com/learn/machine-learning)**\n",
    "\n"
   ]
  }
 ],
 "metadata": {
  "kaggle": {
   "accelerator": "none",
   "dataSources": [
    {
     "datasetId": 2709,
     "sourceId": 38454,
     "sourceType": "datasetVersion"
    },
    {
     "datasetId": 108980,
     "sourceId": 260251,
     "sourceType": "datasetVersion"
    }
   ],
   "isGpuEnabled": false,
   "isInternetEnabled": false,
   "language": "python",
   "sourceType": "notebook"
  },
  "kernelspec": {
   "display_name": "Python 3",
   "language": "python",
   "name": "python3"
  },
  "language_info": {
   "codemirror_mode": {
    "name": "ipython",
    "version": 3
   },
   "file_extension": ".py",
   "mimetype": "text/x-python",
   "name": "python",
   "nbconvert_exporter": "python",
   "pygments_lexer": "ipython3",
   "version": "3.10.14"
  },
  "papermill": {
   "default_parameters": {},
   "duration": 3.920075,
   "end_time": "2024-10-03T10:54:53.002494",
   "environment_variables": {},
   "exception": null,
   "input_path": "__notebook__.ipynb",
   "output_path": "__notebook__.ipynb",
   "parameters": {},
   "start_time": "2024-10-03T10:54:49.082419",
   "version": "2.6.0"
  }
 },
 "nbformat": 4,
 "nbformat_minor": 5
}
