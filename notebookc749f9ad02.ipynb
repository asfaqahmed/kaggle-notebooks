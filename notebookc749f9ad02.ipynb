{
 "cells": [
  {
   "cell_type": "code",
   "execution_count": 1,
   "id": "df38daa0",
   "metadata": {
    "_cell_guid": "b1076dfc-b9ad-4769-8c92-a6c4dae69d19",
    "_uuid": "8f2839f25d086af736a60e9eeb907d3b93b6e0e5",
    "execution": {
     "iopub.execute_input": "2025-05-31T18:31:52.707215Z",
     "iopub.status.busy": "2025-05-31T18:31:52.706200Z",
     "iopub.status.idle": "2025-05-31T18:31:54.924525Z",
     "shell.execute_reply": "2025-05-31T18:31:54.923196Z"
    },
    "papermill": {
     "duration": 2.223571,
     "end_time": "2025-05-31T18:31:54.926202",
     "exception": false,
     "start_time": "2025-05-31T18:31:52.702631",
     "status": "completed"
    },
    "tags": []
   },
   "outputs": [
    {
     "name": "stdout",
     "output_type": "stream",
     "text": [
      "/kaggle/input/arc-prize-2025/arc-agi_training_solutions.json\n",
      "/kaggle/input/arc-prize-2025/arc-agi_evaluation_solutions.json\n",
      "/kaggle/input/arc-prize-2025/arc-agi_evaluation_challenges.json\n",
      "/kaggle/input/arc-prize-2025/sample_submission.json\n",
      "/kaggle/input/arc-prize-2025/arc-agi_training_challenges.json\n",
      "/kaggle/input/arc-prize-2025/arc-agi_test_challenges.json\n"
     ]
    }
   ],
   "source": [
    "# This Python 3 environment comes with many helpful analytics libraries installed\n",
    "# It is defined by the kaggle/python Docker image: https://github.com/kaggle/docker-python\n",
    "# For example, here's several helpful packages to load\n",
    "\n",
    "import numpy as np # linear algebra\n",
    "import pandas as pd # data processing, CSV file I/O (e.g. pd.read_csv)\n",
    "\n",
    "# Input data files are available in the read-only \"../input/\" directory\n",
    "# For example, running this (by clicking run or pressing Shift+Enter) will list all files under the input directory\n",
    "\n",
    "import os\n",
    "for dirname, _, filenames in os.walk('/kaggle/input'):\n",
    "    for filename in filenames:\n",
    "        print(os.path.join(dirname, filename))\n",
    "\n",
    "# You can write up to 20GB to the current directory (/kaggle/working/) that gets preserved as output when you create a version using \"Save & Run All\" \n",
    "# You can also write temporary files to /kaggle/temp/, but they won't be saved outside of the current session"
   ]
  },
  {
   "cell_type": "code",
   "execution_count": 2,
   "id": "9eb44f01",
   "metadata": {
    "execution": {
     "iopub.execute_input": "2025-05-31T18:31:54.931883Z",
     "iopub.status.busy": "2025-05-31T18:31:54.931416Z",
     "iopub.status.idle": "2025-05-31T18:31:54.981731Z",
     "shell.execute_reply": "2025-05-31T18:31:54.980476Z"
    },
    "papermill": {
     "duration": 0.055125,
     "end_time": "2025-05-31T18:31:54.983459",
     "exception": false,
     "start_time": "2025-05-31T18:31:54.928334",
     "status": "completed"
    },
    "tags": []
   },
   "outputs": [
    {
     "name": "stderr",
     "output_type": "stream",
     "text": [
      "0it [00:00, ?it/s]"
     ]
    },
    {
     "name": "stdout",
     "output_type": "stream",
     "text": [
      "Submission written to submission.json\n"
     ]
    },
    {
     "name": "stderr",
     "output_type": "stream",
     "text": [
      "\n"
     ]
    }
   ],
   "source": [
    "# ARC Baseline Notebook for ARC Prize 2025\n",
    "\n",
    "import json\n",
    "import os\n",
    "from pathlib import Path\n",
    "from tqdm import tqdm\n",
    "\n",
    "# Load training & test task JSON files\n",
    "INPUT_DIR = Path(\"/kaggle/input/arc-prize-2025\")\n",
    "TEST_DIR = INPUT_DIR / \"test\"\n",
    "OUTPUT_FILE = \"submission.json\"\n",
    "\n",
    "# Utility to read a task JSON\n",
    "def load_task(task_path):\n",
    "    with open(task_path, \"r\") as f:\n",
    "        return json.load(f)\n",
    "\n",
    "# Very basic strategy: just copy input as output\n",
    "def predict_output(example_input):\n",
    "    return example_input  # naive identity function\n",
    "\n",
    "# Format predictions as per submission requirements\n",
    "submission = {}\n",
    "\n",
    "for task_file in tqdm(sorted(TEST_DIR.glob(\"*.json\"))):\n",
    "    task_id = task_file.stem\n",
    "    task_data = load_task(task_file)\n",
    "\n",
    "    preds = []\n",
    "    for test_case in task_data[\"test\"]:\n",
    "        input_grid = test_case[\"input\"]\n",
    "        pred = predict_output(input_grid)  # Replace with your logic\n",
    "        preds.append({\n",
    "            \"attempt_1\": pred,\n",
    "            \"attempt_2\": pred\n",
    "        })\n",
    "\n",
    "    submission[task_id] = preds\n",
    "\n",
    "# Save submission to JSON\n",
    "with open(OUTPUT_FILE, \"w\") as f:\n",
    "    json.dump(submission, f)\n",
    "\n",
    "print(f\"Submission written to {OUTPUT_FILE}\")\n"
   ]
  }
 ],
 "metadata": {
  "kaggle": {
   "accelerator": "none",
   "dataSources": [
    {
     "databundleVersionId": 11802066,
     "sourceId": 91496,
     "sourceType": "competition"
    }
   ],
   "dockerImageVersionId": 31040,
   "isGpuEnabled": false,
   "isInternetEnabled": false,
   "language": "python",
   "sourceType": "notebook"
  },
  "kernelspec": {
   "display_name": "Python 3",
   "language": "python",
   "name": "python3"
  },
  "language_info": {
   "codemirror_mode": {
    "name": "ipython",
    "version": 3
   },
   "file_extension": ".py",
   "mimetype": "text/x-python",
   "name": "python",
   "nbconvert_exporter": "python",
   "pygments_lexer": "ipython3",
   "version": "3.11.11"
  },
  "papermill": {
   "default_parameters": {},
   "duration": 8.290211,
   "end_time": "2025-05-31T18:31:55.506701",
   "environment_variables": {},
   "exception": null,
   "input_path": "__notebook__.ipynb",
   "output_path": "__notebook__.ipynb",
   "parameters": {},
   "start_time": "2025-05-31T18:31:47.216490",
   "version": "2.6.0"
  }
 },
 "nbformat": 4,
 "nbformat_minor": 5
}
